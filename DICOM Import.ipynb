{
 "cells": [
  {
   "cell_type": "markdown",
   "metadata": {},
   "source": [
    "### Import Libraries and install packages"
   ]
  },
  {
   "cell_type": "code",
   "execution_count": 9,
   "metadata": {},
   "outputs": [
    {
     "name": "stdout",
     "output_type": "stream",
     "text": [
      "Collecting dicom\n",
      "  Downloading https://files.pythonhosted.org/packages/a0/51/6c3134fb6f33bb674b25929b8091a921d5ceedd571d79844ce5b244fab1d/dicom-0.9.9.post1.tar.gz (423kB)\n",
      "Building wheels for collected packages: dicom\n",
      "  Running setup.py bdist_wheel for dicom: started\n",
      "  Running setup.py bdist_wheel for dicom: finished with status 'done'\n",
      "  Stored in directory: C:\\Users\\Ayala\\AppData\\Local\\pip\\Cache\\wheels\\4e\\d2\\a3\\ca1790a3223c07110ce515272de55b890484fa39b82a3d040f\n",
      "Successfully built dicom\n",
      "Installing collected packages: dicom\n",
      "Successfully installed dicom-0.9.9.post1\n"
     ]
    },
    {
     "name": "stderr",
     "output_type": "stream",
     "text": [
      "distributed 1.21.8 requires msgpack, which is not installed.\n",
      "grin 1.2.1 requires argparse>=1.1, which is not installed.\n"
     ]
    }
   ],
   "source": [
    "!pip install -U dicom"
   ]
  },
  {
   "cell_type": "code",
   "execution_count": 11,
   "metadata": {},
   "outputs": [],
   "source": [
    "import dicom\n",
    "import os\n",
    "import numpy as np\n",
    "from matplotlib import pyplot, cm\n",
    "import tarfile\n",
    "import urllib\n",
    "import pandas"
   ]
  },
  {
   "cell_type": "markdown",
   "metadata": {},
   "source": [
    "### Get Files"
   ]
  },
  {
   "cell_type": "code",
   "execution_count": 12,
   "metadata": {},
   "outputs": [
    {
     "data": {
      "text/plain": [
       "('./DM_TH.tgz', <httplib.HTTPMessage instance at 0x0000000008744088>)"
      ]
     },
     "execution_count": 12,
     "metadata": {},
     "output_type": "execute_result"
    }
   ],
   "source": [
    "url = 'https://s3.amazonaws.com/viz_data/DM_TH.tgz' # Import file from URL to notebook location \n",
    "urllib.urlretrieve(url, './DM_TH.tgz')  "
   ]
  },
  {
   "cell_type": "code",
   "execution_count": 13,
   "metadata": {},
   "outputs": [],
   "source": [
    "TarPath = \"./DM_TH.tgz\" # Extract tar file in the same location - get all the DICOM files\n",
    "tar = tarfile.open(TarPath)\n",
    "tar.extractall()\n",
    "tar.close()"
   ]
  },
  {
   "cell_type": "code",
   "execution_count": 14,
   "metadata": {},
   "outputs": [],
   "source": [
    "DicomPath = \"./\"\n",
    "DcomFilesList = []  # Create an empty list\n",
    "for dirName, subdirList, fileList in os.walk(DicomPath):\n",
    "    for filename in fileList:\n",
    "        if \".dcm\" in filename.lower():  # Add to list only if the file is DICOM\n",
    "            DcomFilesList.append(os.path.join(dirName,filename))"
   ]
  },
  {
   "cell_type": "markdown",
   "metadata": {},
   "source": [
    "### Read and understand data"
   ]
  },
  {
   "cell_type": "code",
   "execution_count": 63,
   "metadata": {},
   "outputs": [],
   "source": [
    "# Save one file as a sample record\n",
    "RefDs = dicom.read_file(DcomFilesList[0])"
   ]
  },
  {
   "cell_type": "code",
   "execution_count": 64,
   "metadata": {},
   "outputs": [
    {
     "data": {
      "text/plain": [
       "(0008, 0000) Group Length                        UL: 956\n",
       "(0008, 0005) Specific Character Set              CS: 'ISO_IR 100'\n",
       "(0008, 0008) Image Type                          CS: ['ORIGINAL', 'PRIMARY', 'AXIAL']\n",
       "(0008, 0012) Instance Creation Date              DA: '20150120'\n",
       "(0008, 0013) Instance Creation Time              TM: '163239'\n",
       "(0008, 0016) SOP Class UID                       UI: CT Image Storage\n",
       "(0008, 0018) SOP Instance UID                    UI: 1.2.840.113619.2.337.3.2831186181.442.1421722000.429.1\n",
       "(0008, 0020) Study Date                          DA: '20000101'\n",
       "(0008, 0021) Series Date                         DA: ''\n",
       "(0008, 0022) Acquisition Date                    DA: ''\n",
       "(0008, 0023) Content Date                        DA: ''\n",
       "(0008, 0030) Study Time                          TM: '163150'\n",
       "(0008, 0031) Series Time                         TM: '163222'\n",
       "(0008, 0032) Acquisition Time                    TM: '163234.571806'\n",
       "(0008, 0033) Content Time                        TM: '163239'\n",
       "(0008, 0050) Accession Number                    SH: ''\n",
       "(0008, 0060) Modality                            CS: 'CT'\n",
       "(0008, 0070) Manufacturer                        LO: 'GE MEDICAL SYSTEMS'\n",
       "(0008, 0080) Institution Name                    LO: 'INST_B'\n",
       "(0008, 0090) Referring Physician's Name          PN: ''\n",
       "(0008, 1010) Station Name                        SH: 'ct99'\n",
       "(0008, 1030) Study Description                   LO: 'NCCT HEAD'\n",
       "(0008, 103e) Series Description                  LO: '5/5mm Plain'\n",
       "(0008, 1050) Performing Physician's Name         PN: ''\n",
       "(0008, 1060) Name of Physician(s) Reading Study  PN: ''\n",
       "(0008, 1070) Operators' Name                     PN: ''\n",
       "(0008, 1090) Manufacturer's Model Name           LO: 'Optima CT660'\n",
       "(0008, 1111)  Referenced Performed Procedure Step Sequence   1 item(s) ---- \n",
       "   (0008, 0000) Group Length                        UL: 92\n",
       "   (0008, 1150) Referenced SOP Class UID            UI: Modality Performed Procedure Step SOP Class\n",
       "   (0008, 1155) Referenced SOP Instance UID         UI: 1.2.840.113619.2.337.3.2831186181.442.1421722000.422\n",
       "   ---------\n",
       "(0008, 1140)  Referenced Image Sequence   1 item(s) ---- \n",
       "   (0008, 0000) Group Length                        UL: 96\n",
       "   (0008, 1150) Referenced SOP Class UID            UI: CT Image Storage\n",
       "   (0008, 1155) Referenced SOP Instance UID         UI: 1.2.840.113619.2.337.3.2831186181.442.1421722000.426.1\n",
       "   ---------\n",
       "(0008, 2111) Derivation Description              ST: 'Lossless JPEG compression, selection value 1, point transform 0, compression ratio 3.1979'\n",
       "(0008, 3010) Irradiation Event UID               UI: 1.2.840.113619.2.337.3.2831186181.442.1421722000.428\n",
       "(0008, 9215)  Derivation Code Sequence   1 item(s) ---- \n",
       "   (0008, 0100) Code Value                          SH: '121327'\n",
       "   (0008, 0102) Coding Scheme Designator            SH: 'DCM'\n",
       "   (0008, 0104) Code Meaning                        LO: 'Full fidelity image'\n",
       "   ---------\n",
       "(0009, 0000) Private Creator                     UL: 94\n",
       "(0009, 0010) Private tag data                    LO: 'GEMS_IDEN_01'\n",
       "(0009, 1001) [Full fidelity]                     LO: 'CT_LIGHTSPEED'\n",
       "(0009, 1002) [Suite id]                          SH: 'CT99'\n",
       "(0009, 1004) [Product id]                        SH: 'Optima CT660'\n",
       "(0009, 1027) [Image actual date]                 SL: 1421771542\n",
       "(0009, 10e3) [Equipment UID]                     UI: ''\n",
       "(0010, 0000) Group Length                        UL: 80\n",
       "(0010, 0010) Patient's Name                      PN: '1.2.840.113619.2.337.3.2831186181.442.1421722000.421'\n",
       "(0010, 0020) Patient ID                          LO: '0'\n",
       "(0010, 0030) Patient's Birth Date                DA: ''\n",
       "(0010, 0040) Patient's Sex                       CS: 'M'\n",
       "(0010, 1000) Other Patient IDs                   LO: ''\n",
       "(0010, 1010) Patient's Age                       AS: '011Y'\n",
       "(0010, 21b0) Additional Patient History          LT: ''\n",
       "(0018, 0000) Group Length                        UL: 394\n",
       "(0018, 0022) Scan Options                        CS: 'AXIAL MODE'\n",
       "(0018, 0050) Slice Thickness                     DS: '5.000000'\n",
       "(0018, 0060) KVP                                 DS: '140'\n",
       "(0018, 0088) Spacing Between Slices              DS: '20.000000'\n",
       "(0018, 0090) Data Collection Diameter            DS: '320.000000'\n",
       "(0018, 1000) Device Serial Number                LO: '*'\n",
       "(0018, 1020) Software Version(s)                 LO: 'coreload.81'\n",
       "(0018, 1030) Protocol Name                       LO: '1.1 Routine Head'\n",
       "(0018, 1100) Reconstruction Diameter             DS: '238.000000'\n",
       "(0018, 1110) Distance Source to Detector         DS: '949.147000'\n",
       "(0018, 1111) Distance Source to Patient          DS: '541.000000'\n",
       "(0018, 1120) Gantry/Detector Tilt                DS: '0.000000'\n",
       "(0018, 1130) Table Height                        DS: '173.500000'\n",
       "(0018, 1140) Rotation Direction                  CS: 'CW'\n",
       "(0018, 1150) Exposure Time                       IS: '2000'\n",
       "(0018, 1151) X-Ray Tube Current                  IS: '170'\n",
       "(0018, 1152) Exposure                            IS: '85'\n",
       "(0018, 1160) Filter Type                         SH: 'HEAD FILTER'\n",
       "(0018, 1170) Generator Power                     IS: '23800'\n",
       "(0018, 1190) Focal Spot(s)                       DS: '0.700000'\n",
       "(0018, 1210) Convolution Kernel                  SH: 'STANDARD'\n",
       "(0018, 5100) Patient Position                    CS: 'HFS'\n",
       "(0018, 9305) Revolution Time                     FD: 2.0\n",
       "(0018, 9306) Single Collimation Width            FD: 0.625\n",
       "(0018, 9307) Total Collimation Width             FD: 20.0\n",
       "(0019, 0000) Private Creator                     UL: 290\n",
       "(0019, 0010) Private tag data                    LO: 'GEMS_ACQU_01'\n",
       "(0019, 1002) [Detector Channel]                  SL: 912\n",
       "(0019, 1003) [Cell number at Theta]              DS: '389.750000'\n",
       "(0019, 1004) [Cell spacing]                      DS: '1.023900'\n",
       "(0019, 100f) [Horiz. Frame of ref.]              DS: '657.000000'\n",
       "(0019, 1011) [Series contrast]                   SS: 0\n",
       "(0019, 1018) [First scan ras]                    LO: 'I'\n",
       "(0019, 101a) [Last scan ras]                     LO: 'S'\n",
       "(0019, 1023) [Table Speed [mm/rotation]]         DS: '0.000000'\n",
       "(0019, 1024) [Mid Scan Time [sec]]               DS: '1.000000'\n",
       "(0019, 1025) [Mid scan flag]                     SS: 1\n",
       "(0019, 1026) [Tube Azimuth [degree]]             SL: 358\n",
       "(0019, 1027) [Rotation Speed [msec]]             DS: '2.000000'\n",
       "(0019, 102c) [Number of triggers]                SL: 1976\n",
       "(0019, 102e) [Angle of first view]               DS: '0.000000'\n",
       "(0019, 102f) [Trigger frequency]                 DS: '984.000000'\n",
       "(0019, 1039) [SFOV Type]                         SS: 2\n",
       "(0019, 1042) [Segment Number]                    SS: 0\n",
       "(0019, 1043) [Total Segments Required]           SS: 0\n",
       "(0019, 1047) [View compression factor]           SS: 2\n",
       "(0019, 1052) [Recon post proc. Flag]             SS: 1\n",
       "(0019, 106a) [Dependent on #views processed]     SS: 2\n",
       "(0020, 0000) Group Length                        UL: 352\n",
       "(0020, 000d) Study Instance UID                  UI: 1.2.840.113619.2.337.3.2831186181.442.1421722000.421\n",
       "(0020, 000e) Series Instance UID                 UI: 1.2.840.113619.2.337.3.2831186181.442.1421722000.427\n",
       "(0020, 0010) Study ID                            SH: '2727'\n",
       "(0020, 0011) Series Number                       IS: '2'\n",
       "(0020, 0012) Acquisition Number                  IS: '1'\n",
       "(0020, 0013) Instance Number                     IS: '1'\n",
       "(0020, 0032) Image Position (Patient)            DS: ['-119.000', '-109.000', '-34.500']\n",
       "(0020, 0037) Image Orientation (Patient)         DS: ['1.000000', '0.000000', '0.000000', '0.000000', '1.000000', '0.000000']\n",
       "(0020, 0052) Frame of Reference UID              UI: 1.2.840.113619.2.337.3.2831186181.442.1421722000.423.6570.1\n",
       "(0020, 1040) Position Reference Indicator        LO: 'OM'\n",
       "(0020, 1041) Slice Location                      DS: '-34.500'\n",
       "(0021, 0000) Private Creator                     UL: 84\n",
       "(0021, 0010) Private tag data                    LO: 'GEMS_RELA_01'\n",
       "(0021, 1003) [Series from which Prescribed]      SS: 2\n",
       "(0021, 1035) [Series from which prescribed]      SS: 1\n",
       "(0021, 1036) [Image from which prescribed]       SS: 1\n",
       "(0021, 1091) [Biopsy position]                   SS: 0\n",
       "(0021, 1092) [Biopsy T location]                 FL: 0.0\n",
       "(0021, 1093) [Biopsy ref location]               FL: 0.0\n",
       "(0023, 0000) Private Creator                     UL: 36\n",
       "(0023, 0010) Private tag data                    LO: 'GEMS_STDY_01'\n",
       "(0023, 1070) [Start time(secs) in first axial]   FD: 1421771554.571806\n",
       "(0027, 0000) Private Creator                     UL: 182\n",
       "(0027, 0010) Private tag data                    LO: 'GEMS_IMAG_01'\n",
       "(0027, 1010) [Scout Type]                        SS: 0\n",
       "(0027, 101c) [Vma mamp]                          SL: 0\n",
       "(0027, 101e) [Vma mod]                           SL: 0\n",
       "(0027, 101f) [Vma clip]                          SL: 0\n",
       "(0027, 1020) [Smart scan ON/OFF flag]            SS: 0\n",
       "(0027, 1035) [Plane Type]                        SS: 2\n",
       "(0027, 1042) [Center R coord of plane image]     FL: 0.0\n",
       "(0027, 1043) [Center A coord of plane image]     FL: -10.0\n",
       "(0027, 1044) [Center S coord of plane image]     FL: -34.5\n",
       "(0027, 1045) [Normal R coord]                    FL: 0.0\n",
       "(0027, 1046) [Normal A coord]                    FL: -0.0\n",
       "(0027, 1047) [Normal S coord]                    FL: 1.0\n",
       "(0027, 1050) [Scan Start Location]               FL: 0.0\n",
       "(0027, 1051) [Scan End Location]                 FL: 0.0\n",
       "(0028, 0000) Group Length                        UL: 182\n",
       "(0028, 0002) Samples per Pixel                   US: 1\n",
       "(0028, 0004) Photometric Interpretation          CS: 'MONOCHROME2'\n",
       "(0028, 0010) Rows                                US: 512\n",
       "(0028, 0011) Columns                             US: 512\n",
       "(0028, 0030) Pixel Spacing                       DS: ['0.464844', '0.464844']\n",
       "(0028, 0100) Bits Allocated                      US: 16\n",
       "(0028, 0101) Bits Stored                         US: 16\n",
       "(0028, 0102) High Bit                            US: 15\n",
       "(0028, 0103) Pixel Representation                US: 1\n",
       "(0028, 0120) Pixel Padding Value                 SS: -2000\n",
       "(0028, 1050) Window Center                       DS: '40'\n",
       "(0028, 1051) Window Width                        DS: '100'\n",
       "(0028, 1052) Rescale Intercept                   DS: '-1024'\n",
       "(0028, 1053) Rescale Slope                       DS: '1'\n",
       "(0028, 1054) Rescale Type                        LO: 'HU'\n",
       "(0040, 0000) Group Length                        UL: 70\n",
       "(0040, 0244) Performed Procedure Step Start Date DA: '20150120'\n",
       "(0040, 0245) Performed Procedure Step Start Time TM: '163150'\n",
       "(0040, 0253) Performed Procedure Step ID         SH: 'PPS ID   2727'\n",
       "(0040, 0254) Performed Procedure Step Descriptio LO: 'NCCT HEAD'\n",
       "(0043, 0000) Private Creator                     UL: 310\n",
       "(0043, 0010) Private tag data                    LO: 'GEMS_PARM_01'\n",
       "(0043, 1010) [Window value]                      US: 100\n",
       "(0043, 1012) [X-ray chain]                       SS: [99, 99, 99]\n",
       "(0043, 1016) [Number of overranges]              SS: -1\n",
       "(0043, 101e) [Delta Start Time [msec]]           DS: '0.000000'\n",
       "(0043, 101f) [Max overranges in a view]          SL: 0\n",
       "(0043, 1021) [Corrected after glow terms]        SS: 0\n",
       "(0043, 1025) [Reference channels]                SS: [0, 0, 0, 0, 0, 0]\n",
       "(0043, 1026) [No views ref chans blocked]        US: [0, 0, 0, 0]\n",
       "(0043, 1027) [Scan Pitch Ratio]                  SH: ''\n",
       "(0043, 1028) [Unique image iden]                 OB: '00'\n",
       "(0043, 102b) [Private Scan Options]              SS: [2, 0, 1, 0]\n",
       "(0043, 1031) [Recon Center Coordinates]          DS: ['0.000000', '-10.000000']\n",
       "(0043, 1040) [Trigger on position]               FL: 43.89120101928711\n",
       "(0043, 1041) [Degree of rotation]                FL: 361.4634094238281\n",
       "(0043, 1042) [DAS trigger source]                SL: 0\n",
       "(0043, 1043) [DAS fpa gain]                      SL: 0\n",
       "(0043, 1044) [DAS output source]                 SL: 0\n",
       "(0043, 1045) [DAS ad input]                      SL: 0\n",
       "(0043, 1046) [DAS cal mode]                      SL: 0\n",
       "(0043, 104d) [Start scan to X-ray on delay]      FL: 0.0\n",
       "(0043, 104e) [Duration of X-ray on]              FL: 2.0\n",
       "(0043, 1064) [Image Filter]                      CS: ''\n",
       "(0045, 0000) Private Creator                     UL: 316\n",
       "(0045, 0010) Private tag data                    LO: 'GEMS_HELIOS_01'\n",
       "(0045, 1001) [Number of Macro Rows in Detector]  SS: 32\n",
       "(0045, 1002) [Macro width at ISO Center]         FL: 0.625\n",
       "(0045, 1003) [DAS type]                          SS: 24\n",
       "(0045, 1004) [DAS gain]                          SS: 4\n",
       "(0045, 1006) [Table Direction]                   CS: 'OUT OF GANTRY'\n",
       "(0045, 1007) [Z smoothing Factor]                FL: 0.0\n",
       "(0045, 1008) [View Weighting Mode]               SS: 0\n",
       "(0045, 1009) [Sigma Row number]                  SS: 17\n",
       "(0045, 100a) [Minimum DAS value]                 FL: 0.0\n",
       "(0045, 100b) [Maximum Offset Value]              FL: 0.0\n",
       "(0045, 100c) [Number of Views shifted]           SS: 0\n",
       "(0045, 100d) [Z tracking Flag]                   SS: 0\n",
       "(0045, 100e) [Mean Z error]                      FL: 0.0\n",
       "(0045, 100f) [Z tracking Error]                  FL: 0.0\n",
       "(0045, 1010) [Start View 2A]                     SS: 0\n",
       "(0045, 1011) [Number of Views 2A]                SS: 0\n",
       "(0045, 1012) [Start View 1A]                     SS: 0\n",
       "(0045, 1013) [Sigma Mode]                        SS: 2\n",
       "(0045, 1014) [Number of Views 1A]                SS: 0\n",
       "(0045, 1015) [Start View 2B]                     SS: 0\n",
       "(0045, 1016) [Number Views 2B]                   SS: 0\n",
       "(0045, 1017) [Start View 1B]                     SS: 0\n",
       "(0045, 1018) [Number of Views 1B]                SS: 0\n",
       "(0045, 1021) [Iterbone Flag]                     SS: 1\n",
       "(0045, 1022) [Perisstaltic Flag]                 SS: 0\n",
       "(0045, 1032) [TemporalResolution]                FL: 1.0\n",
       "(0045, 103b) [NoiseReductionImageFilterDesc]     LO: ''\n",
       "(0053, 0000) Private Creator                     UL: 200\n",
       "(0053, 0010) Private tag data                    LO: 'GEHC_CT_ADVAPP_001'\n",
       "(0053, 1020) [ShuttleFlag]                       IS: '0'\n",
       "(0053, 1040) [IterativeReconAnnotation]          SH: 'SS20'\n",
       "(0053, 1041) [IterativeReconMode]                SH: 'Slice'\n",
       "(0053, 1042) [IterativeReconConfiguration]       LO: 'SS20:Slice'\n",
       "(0053, 1043) [IterativeReconLevel]               SH: '20'\n",
       "(0053, 1060) [reconFlipRotateAnno]               SH: ''\n",
       "(0053, 1061) [highResolutionFlag]                SH: '0'\n",
       "(0053, 1062) [RespiratoryFlag]                   SH: '0'\n",
       "(0053, 1064) Private tag data                    IS: '0'\n",
       "(0053, 1065) Private tag data                    IS: '0'\n",
       "(0053, 1066) Private tag data                    LO: '140kV'\n",
       "(0053, 1067) Private tag data                    IS: '0'\n",
       "(0053, 1068) Private tag data                    IS: '0'\n",
       "(0053, 106a) Private tag data                    IS: '0'\n",
       "(0053, 106b) Private tag data                    IS: '0'\n",
       "(0053, 109d) Private tag data                    LO: ''\n",
       "(7fe0, 0000) Group Length                        UL: 163986\n",
       "(7fe0, 0010) Pixel Data                          OB: Array of 163966 bytes"
      ]
     },
     "execution_count": 64,
     "metadata": {},
     "output_type": "execute_result"
    }
   ],
   "source": [
    "RefDs # view sample record"
   ]
  },
  {
   "cell_type": "markdown",
   "metadata": {},
   "source": [
    "### Transfer data into dataframe"
   ]
  },
  {
   "cell_type": "code",
   "execution_count": 71,
   "metadata": {},
   "outputs": [],
   "source": [
    "column_names = ['PatientName','StudyInstanceUID','SeriesInstanceUID','PatientAge','PatientSex','InstitutionName'] # dataframe headers"
   ]
  },
  {
   "cell_type": "code",
   "execution_count": 94,
   "metadata": {},
   "outputs": [
    {
     "name": "stdout",
     "output_type": "stream",
     "text": [
      "                                         PatientName  \\\n",
      "0  1.2.840.113619.2.337.3.2831186181.442.14217220...   \n",
      "1  1.2.840.113619.2.337.3.2831186181.442.14217220...   \n",
      "2  1.2.840.113619.2.337.3.2831186181.442.14217220...   \n",
      "3  1.2.840.113619.2.337.3.2831186181.442.14217220...   \n",
      "4  1.2.840.113619.2.337.3.2831186181.442.14217220...   \n",
      "\n",
      "                                    StudyInstanceUID  \\\n",
      "0  1.2.840.113619.2.337.3.2831186181.442.14217220...   \n",
      "1  1.2.840.113619.2.337.3.2831186181.442.14217220...   \n",
      "2  1.2.840.113619.2.337.3.2831186181.442.14217220...   \n",
      "3  1.2.840.113619.2.337.3.2831186181.442.14217220...   \n",
      "4  1.2.840.113619.2.337.3.2831186181.442.14217220...   \n",
      "\n",
      "                                   SeriesInstanceUID PatientAge PatientSex  \\\n",
      "0  1.2.840.113619.2.337.3.2831186181.442.14217220...       011Y          M   \n",
      "1  1.2.840.113619.2.337.3.2831186181.442.14217220...       011Y          M   \n",
      "2  1.2.840.113619.2.337.3.2831186181.442.14217220...       011Y          M   \n",
      "3  1.2.840.113619.2.337.3.2831186181.442.14217220...       011Y          M   \n",
      "4  1.2.840.113619.2.337.3.2831186181.442.14217220...       011Y          M   \n",
      "\n",
      "  InstitutionName  \n",
      "0          INST_B  \n",
      "1          INST_B  \n",
      "2          INST_B  \n",
      "3          INST_B  \n",
      "4          INST_B  \n"
     ]
    }
   ],
   "source": [
    "n = len(DcomFilesList); # length of loop\n",
    "DcmArray = np.empty((0, 6)) # init array\n",
    "\n",
    "# This loop inserts each DICOM file into one array row, extracting relevant info only using the data_element function\n",
    "for i in range(0,n):\n",
    "    \n",
    "    RefDs = dicom.read_file(DcomFilesList[i])\n",
    "    PatientName = RefDs.data_element(\"PatientName\")\n",
    "    PatientName = PatientName.value\n",
    "    StudyInstanceUID = RefDs.data_element(\"StudyInstanceUID\") \n",
    "    StudyInstanceUID = StudyInstanceUID.value\n",
    "    SeriesInstanceUID = RefDs.data_element(\"SeriesInstanceUID\")  \n",
    "    SeriesInstanceUID = SeriesInstanceUID.value\n",
    "    PatientAge = RefDs.data_element(\"PatientAge\")\n",
    "    PatientAge = PatientAge.value\n",
    "    PatientSex = RefDs.data_element(\"PatientSex\")\n",
    "    PatientSex = PatientSex.value\n",
    "    InstitutionName = RefDs.data_element(\"InstitutionName\")\n",
    "    InstitutionName = InstitutionName.value\n",
    "  \n",
    "    result = [PatientName,StudyInstanceUID,SeriesInstanceUID,PatientAge,PatientSex,InstitutionName]\n",
    "    DcmArray = np.append(DcmArray,[result], axis=0) # adding file #i data into the array\n",
    "   \n",
    "    i=i+1\n",
    "\n",
    "df = pd.DataFrame(DcmArray, columns=column_names)\n",
    "print df.head()\n"
   ]
  },
  {
   "cell_type": "markdown",
   "metadata": {},
   "source": [
    "### Question #1: generate a list of patients, their age and sex"
   ]
  },
  {
   "cell_type": "code",
   "execution_count": 104,
   "metadata": {},
   "outputs": [
    {
     "name": "stderr",
     "output_type": "stream",
     "text": [
      "C:\\ProgramData\\Anaconda2\\lib\\site-packages\\ipykernel_launcher.py:2: SettingWithCopyWarning: \n",
      "A value is trying to be set on a copy of a slice from a DataFrame\n",
      "\n",
      "See the caveats in the documentation: http://pandas.pydata.org/pandas-docs/stable/indexing.html#indexing-view-versus-copy\n",
      "  \n"
     ]
    }
   ],
   "source": [
    "PatientList = df[['PatientName','PatientAge','PatientSex']] # Subsetting the dataframe\n",
    "PatientList.drop_duplicates(subset=None, keep=\"first\", inplace=True) # Dropping duplicates\n",
    "PatientList.to_csv('PatientList.csv') # Save as CSV"
   ]
  },
  {
   "cell_type": "markdown",
   "metadata": {},
   "source": [
    "### Question #2: how many different hospitals do the data come from?"
   ]
  },
  {
   "cell_type": "code",
   "execution_count": 106,
   "metadata": {},
   "outputs": [
    {
     "data": {
      "text/plain": [
       "3"
      ]
     },
     "execution_count": 106,
     "metadata": {},
     "output_type": "execute_result"
    }
   ],
   "source": [
    "df['InstitutionName'].nunique() # count unique records in the InstitutionName column"
   ]
  },
  {
   "cell_type": "markdown",
   "metadata": {},
   "source": [
    "### Question #3: explore the following DICOM tags, and try to explain what they mean, and the differences and relationships between them. Feel free to use appropriate visualizations as necessary. "
   ]
  },
  {
   "cell_type": "code",
   "execution_count": 187,
   "metadata": {},
   "outputs": [
    {
     "name": "stdout",
     "output_type": "stream",
     "text": [
      "                                         PatientName  \\\n",
      "0  1.2.840.113619.2.337.3.2831186181.442.14217220...   \n",
      "1  1.2.840.113619.2.337.3.2831186181.442.14217220...   \n",
      "2  1.2.840.113619.2.337.3.2831186181.442.14217220...   \n",
      "3  1.2.840.113619.2.337.3.2831186181.442.14217220...   \n",
      "4  1.2.840.113619.2.337.3.2831186181.442.14217220...   \n",
      "\n",
      "                                    StudyInstanceUID  \\\n",
      "0  1.2.840.113619.2.337.3.2831186181.442.14217220...   \n",
      "1  1.2.840.113619.2.337.3.2831186181.442.14217220...   \n",
      "2  1.2.840.113619.2.337.3.2831186181.442.14217220...   \n",
      "3  1.2.840.113619.2.337.3.2831186181.442.14217220...   \n",
      "4  1.2.840.113619.2.337.3.2831186181.442.14217220...   \n",
      "\n",
      "                                   SeriesInstanceUID PatientAge PatientSex  \\\n",
      "0  1.2.840.113619.2.337.3.2831186181.442.14217220...       011Y          M   \n",
      "1  1.2.840.113619.2.337.3.2831186181.442.14217220...       011Y          M   \n",
      "2  1.2.840.113619.2.337.3.2831186181.442.14217220...       011Y          M   \n",
      "3  1.2.840.113619.2.337.3.2831186181.442.14217220...       011Y          M   \n",
      "4  1.2.840.113619.2.337.3.2831186181.442.14217220...       011Y          M   \n",
      "\n",
      "  InstitutionName    Col1           Col2 Col3 Col4  \n",
      "0          INST_B  163239  163234.571806    1    1  \n",
      "1          INST_B  163239  163234.571806    1    2  \n",
      "2          INST_B  163240  163234.571806    1    3  \n",
      "3          INST_B  163240  163234.571806    1    4  \n",
      "4          INST_B  163244  163237.877725    2    5  \n"
     ]
    }
   ],
   "source": [
    "column_names = ['PatientName','StudyInstanceUID','SeriesInstanceUID','PatientAge','PatientSex','InstitutionName','Col1','Col2','Col3','Col4']\n",
    "\n",
    "# Same array as before, adding 4 new columns\n",
    "n = len(DcomFilesList);\n",
    "DcmArray1 = np.empty((0, 10))\n",
    "for i in range(0,n):\n",
    "    \n",
    "    RefDs = dicom.read_file(DcomFilesList[i])\n",
    "    PatientName = RefDs.data_element(\"PatientName\")\n",
    "    PatientName = PatientName.value\n",
    "    StudyInstanceUID = RefDs.data_element(\"StudyInstanceUID\") \n",
    "    StudyInstanceUID = StudyInstanceUID.value\n",
    "    SeriesInstanceUID = RefDs.data_element(\"SeriesInstanceUID\")  \n",
    "    SeriesInstanceUID = SeriesInstanceUID.value\n",
    "    PatientAge = RefDs.data_element(\"PatientAge\")\n",
    "    PatientAge = PatientAge.value\n",
    "    PatientSex = RefDs.data_element(\"PatientSex\")\n",
    "    PatientSex = PatientSex.value\n",
    "    InstitutionName = RefDs.data_element(\"InstitutionName\")\n",
    "    InstitutionName = InstitutionName.value\n",
    "    if [0x0008,0x0013] in RefDs: # Saving specific tag values in meaningless column headers (since I don't know what they mean yet)\n",
    "        Col1 = RefDs[0x0008,0x0013].value\n",
    "    if [0x0008,0x0013] in RefDs:\n",
    "        Col2 = RefDs[0x0008,0x0032].value\n",
    "    if [0x0008,0x0013] in RefDs:\n",
    "        Col3 = RefDs[0x0020,0x0012].value\n",
    "    if [0x0008,0x0013] in RefDs:\n",
    "        Col4 = RefDs[0x0020,0x0013].value\n",
    "    result = [PatientName,StudyInstanceUID,SeriesInstanceUID,PatientAge,PatientSex,InstitutionName,Col1,Col2,Col3,Col4]\n",
    "    DcmArray1 = np.append(DcmArray1,[result], axis=0)\n",
    "    i=i+1\n",
    "\n",
    "df1 = pd.DataFrame(DcmArray1, columns=column_names)\n",
    "print df1.head()\n",
    "df1.to_csv('df1.csv') # Save as CSV"
   ]
  },
  {
   "cell_type": "markdown",
   "metadata": {},
   "source": [
    "After exploring the CSV file, it seems that Col 1 and Col 2 hold date or time data - I will convert them as my next step. Col 4 is the instance number. Col 3 is not the series number, but some kind of other breakdown - possibly change between angles(?) You can see that the time columns have the same values in all instances of the same series, probably refering to the start and the end times of the series."
   ]
  },
  {
   "cell_type": "markdown",
   "metadata": {},
   "source": [
    "### Question #4: How long does a typical CT scan take? "
   ]
  },
  {
   "cell_type": "code",
   "execution_count": 144,
   "metadata": {},
   "outputs": [],
   "source": [
    "from datetime import datetime # I need this package to deal with the date and time data"
   ]
  },
  {
   "cell_type": "code",
   "execution_count": 193,
   "metadata": {},
   "outputs": [
    {
     "data": {
      "text/html": [
       "<div>\n",
       "<style scoped>\n",
       "    .dataframe tbody tr th:only-of-type {\n",
       "        vertical-align: middle;\n",
       "    }\n",
       "\n",
       "    .dataframe tbody tr th {\n",
       "        vertical-align: top;\n",
       "    }\n",
       "\n",
       "    .dataframe thead th {\n",
       "        text-align: right;\n",
       "    }\n",
       "</style>\n",
       "<table border=\"1\" class=\"dataframe\">\n",
       "  <thead>\n",
       "    <tr style=\"text-align: right;\">\n",
       "      <th></th>\n",
       "      <th>PatientName</th>\n",
       "      <th>SeriesInstanceUID</th>\n",
       "      <th>Col1</th>\n",
       "      <th>PatientName</th>\n",
       "      <th>SeriesInstanceUID</th>\n",
       "      <th>Col2</th>\n",
       "      <th>ExamTime</th>\n",
       "    </tr>\n",
       "  </thead>\n",
       "  <tbody>\n",
       "    <tr>\n",
       "      <th>0</th>\n",
       "      <td>1.2.840.113619.2.337.3.2831186181.442.14217220...</td>\n",
       "      <td>1.2.840.113619.2.337.3.2831186181.442.14217220...</td>\n",
       "      <td>1970-01-02 21:20:39</td>\n",
       "      <td>1.2.840.113619.2.337.3.2831186181.442.14217220...</td>\n",
       "      <td>1.2.840.113619.2.337.3.2831186181.442.14217220...</td>\n",
       "      <td>1970-01-02 21:20:34.571806</td>\n",
       "      <td>4.428194</td>\n",
       "    </tr>\n",
       "    <tr>\n",
       "      <th>1</th>\n",
       "      <td>1.2.840.113619.2.337.3.2831186181.704.14202533...</td>\n",
       "      <td>1.2.840.113619.2.337.3.2831186181.704.14202533...</td>\n",
       "      <td>1970-01-02 21:20:39</td>\n",
       "      <td>1.2.840.113619.2.337.3.2831186181.704.14202533...</td>\n",
       "      <td>1.2.840.113619.2.337.3.2831186181.704.14202533...</td>\n",
       "      <td>1970-01-02 21:20:34.571806</td>\n",
       "      <td>4.428194</td>\n",
       "    </tr>\n",
       "    <tr>\n",
       "      <th>2</th>\n",
       "      <td>1.2.840.113619.2.337.3.2831186181.801.14145504...</td>\n",
       "      <td>1.2.840.113619.2.337.3.2831186181.801.14145504...</td>\n",
       "      <td>1970-01-02 21:20:40</td>\n",
       "      <td>1.2.840.113619.2.337.3.2831186181.801.14145504...</td>\n",
       "      <td>1.2.840.113619.2.337.3.2831186181.801.14145504...</td>\n",
       "      <td>1970-01-02 21:20:34.571806</td>\n",
       "      <td>5.428194</td>\n",
       "    </tr>\n",
       "    <tr>\n",
       "      <th>3</th>\n",
       "      <td>1.2.840.113619.2.337.3.2831186181.801.14145504...</td>\n",
       "      <td>1.2.840.113619.2.337.3.2831186181.801.14145504...</td>\n",
       "      <td>1970-01-02 21:20:40</td>\n",
       "      <td>1.2.840.113619.2.337.3.2831186181.801.14145504...</td>\n",
       "      <td>1.2.840.113619.2.337.3.2831186181.801.14145504...</td>\n",
       "      <td>1970-01-02 21:20:34.571806</td>\n",
       "      <td>5.428194</td>\n",
       "    </tr>\n",
       "    <tr>\n",
       "      <th>4</th>\n",
       "      <td>1.3.12.2.1107.5.1.4.0.300000160805094520515000...</td>\n",
       "      <td>1.3.12.2.1107.5.1.4.0.300000160805094525000000...</td>\n",
       "      <td>1970-01-02 21:20:44</td>\n",
       "      <td>1.3.12.2.1107.5.1.4.0.300000160805094520515000...</td>\n",
       "      <td>1.3.12.2.1107.5.1.4.0.300000160805094525000000...</td>\n",
       "      <td>1970-01-02 21:20:37.877725</td>\n",
       "      <td>6.122275</td>\n",
       "    </tr>\n",
       "    <tr>\n",
       "      <th>5</th>\n",
       "      <td>1.3.12.2.1107.5.1.4.0.300000160820013410609000...</td>\n",
       "      <td>1.3.12.2.1107.5.1.4.0.300000160820011900390000...</td>\n",
       "      <td>1970-01-02 21:20:44</td>\n",
       "      <td>1.3.12.2.1107.5.1.4.0.300000160820013410609000...</td>\n",
       "      <td>1.3.12.2.1107.5.1.4.0.300000160820011900390000...</td>\n",
       "      <td>1970-01-02 21:20:37.877725</td>\n",
       "      <td>6.122275</td>\n",
       "    </tr>\n",
       "    <tr>\n",
       "      <th>6</th>\n",
       "      <td>1.3.12.2.1107.5.1.4.0.300000160820013410609000...</td>\n",
       "      <td>1.3.12.2.1107.5.1.4.0.300000160820011900390000...</td>\n",
       "      <td>1970-01-02 21:20:44</td>\n",
       "      <td>1.3.12.2.1107.5.1.4.0.300000160820013410609000...</td>\n",
       "      <td>1.3.12.2.1107.5.1.4.0.300000160820011900390000...</td>\n",
       "      <td>1970-01-02 21:20:37.877725</td>\n",
       "      <td>6.122275</td>\n",
       "    </tr>\n",
       "  </tbody>\n",
       "</table>\n",
       "</div>"
      ],
      "text/plain": [
       "                                         PatientName  \\\n",
       "0  1.2.840.113619.2.337.3.2831186181.442.14217220...   \n",
       "1  1.2.840.113619.2.337.3.2831186181.704.14202533...   \n",
       "2  1.2.840.113619.2.337.3.2831186181.801.14145504...   \n",
       "3  1.2.840.113619.2.337.3.2831186181.801.14145504...   \n",
       "4  1.3.12.2.1107.5.1.4.0.300000160805094520515000...   \n",
       "5  1.3.12.2.1107.5.1.4.0.300000160820013410609000...   \n",
       "6  1.3.12.2.1107.5.1.4.0.300000160820013410609000...   \n",
       "\n",
       "                                   SeriesInstanceUID                Col1  \\\n",
       "0  1.2.840.113619.2.337.3.2831186181.442.14217220... 1970-01-02 21:20:39   \n",
       "1  1.2.840.113619.2.337.3.2831186181.704.14202533... 1970-01-02 21:20:39   \n",
       "2  1.2.840.113619.2.337.3.2831186181.801.14145504... 1970-01-02 21:20:40   \n",
       "3  1.2.840.113619.2.337.3.2831186181.801.14145504... 1970-01-02 21:20:40   \n",
       "4  1.3.12.2.1107.5.1.4.0.300000160805094525000000... 1970-01-02 21:20:44   \n",
       "5  1.3.12.2.1107.5.1.4.0.300000160820011900390000... 1970-01-02 21:20:44   \n",
       "6  1.3.12.2.1107.5.1.4.0.300000160820011900390000... 1970-01-02 21:20:44   \n",
       "\n",
       "                                         PatientName  \\\n",
       "0  1.2.840.113619.2.337.3.2831186181.442.14217220...   \n",
       "1  1.2.840.113619.2.337.3.2831186181.704.14202533...   \n",
       "2  1.2.840.113619.2.337.3.2831186181.801.14145504...   \n",
       "3  1.2.840.113619.2.337.3.2831186181.801.14145504...   \n",
       "4  1.3.12.2.1107.5.1.4.0.300000160805094520515000...   \n",
       "5  1.3.12.2.1107.5.1.4.0.300000160820013410609000...   \n",
       "6  1.3.12.2.1107.5.1.4.0.300000160820013410609000...   \n",
       "\n",
       "                                   SeriesInstanceUID  \\\n",
       "0  1.2.840.113619.2.337.3.2831186181.442.14217220...   \n",
       "1  1.2.840.113619.2.337.3.2831186181.704.14202533...   \n",
       "2  1.2.840.113619.2.337.3.2831186181.801.14145504...   \n",
       "3  1.2.840.113619.2.337.3.2831186181.801.14145504...   \n",
       "4  1.3.12.2.1107.5.1.4.0.300000160805094525000000...   \n",
       "5  1.3.12.2.1107.5.1.4.0.300000160820011900390000...   \n",
       "6  1.3.12.2.1107.5.1.4.0.300000160820011900390000...   \n",
       "\n",
       "                        Col2  ExamTime  \n",
       "0 1970-01-02 21:20:34.571806  4.428194  \n",
       "1 1970-01-02 21:20:34.571806  4.428194  \n",
       "2 1970-01-02 21:20:34.571806  5.428194  \n",
       "3 1970-01-02 21:20:34.571806  5.428194  \n",
       "4 1970-01-02 21:20:37.877725  6.122275  \n",
       "5 1970-01-02 21:20:37.877725  6.122275  \n",
       "6 1970-01-02 21:20:37.877725  6.122275  "
      ]
     },
     "execution_count": 193,
     "metadata": {},
     "output_type": "execute_result"
    }
   ],
   "source": [
    "# Calculating the min and max time for each series and then extracting the time differences so get the scan length\n",
    "df2 = df1.groupby(['PatientName','SeriesInstanceUID'])['Col1'].max().reset_index()\n",
    "df3 = df1.groupby(['PatientName','SeriesInstanceUID'])['Col2'].min().reset_index()\n",
    "df4 = pd.concat([df2, df3], axis=1)\n",
    "\n",
    "df4['Col1'] = pandas.to_datetime(df1['Col1'], unit='s') # convert to date and time\n",
    "df4['Col2'] = pandas.to_datetime(df1['Col2'], unit='s')\n",
    "df4['ExamTime'] = (df4['Col1']-df4['Col2']).dt.total_seconds() # calculate differences between the time columns to get the number of seconds the exam takes\n",
    "\n",
    "df4"
   ]
  },
  {
   "cell_type": "code",
   "execution_count": 194,
   "metadata": {},
   "outputs": [
    {
     "data": {
      "text/plain": [
       "5.439943"
      ]
     },
     "execution_count": 194,
     "metadata": {},
     "output_type": "execute_result"
    }
   ],
   "source": [
    "df4['ExamTime'].mean() # calculate the mean of the ExamTime column"
   ]
  },
  {
   "cell_type": "code",
   "execution_count": null,
   "metadata": {},
   "outputs": [],
   "source": []
  }
 ],
 "metadata": {
  "kernelspec": {
   "display_name": "Python 2",
   "language": "python",
   "name": "python2"
  },
  "language_info": {
   "codemirror_mode": {
    "name": "ipython",
    "version": 2
   },
   "file_extension": ".py",
   "mimetype": "text/x-python",
   "name": "python",
   "nbconvert_exporter": "python",
   "pygments_lexer": "ipython2",
   "version": "2.7.15"
  }
 },
 "nbformat": 4,
 "nbformat_minor": 2
}
